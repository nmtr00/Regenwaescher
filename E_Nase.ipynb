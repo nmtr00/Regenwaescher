{
 "cells": [
  {
   "cell_type": "code",
   "execution_count": 60,
   "metadata": {},
   "outputs": [],
   "source": [
    "import pandas as pd\n",
    "\n"
   ]
  },
  {
   "cell_type": "code",
   "execution_count": 61,
   "metadata": {},
   "outputs": [],
   "source": [
    "#Define the path to your log file\n",
    "log_file_path = \"Vorne.txt\"\n",
    "\n",
    "# List to store log messages (optional)\n",
    "log_messages = []\n",
    "\n",
    "# Read the log file line by line\n",
    "with open(log_file_path, 'r') as f:\n",
    "  for line in f:\n",
    "    # Process each line here if needed (e.g., extract specific data)\n",
    "    log_messages.append(line.strip())  # Add cleaned line to the list\n",
    "\n",
    "# Create a DataFrame (adjust column names and data types as needed)\n",
    "df = pd.DataFrame({\n",
    "  \"message\": log_messages  # Column for full log messages\n",
    "})\n"
   ]
  },
  {
   "cell_type": "code",
   "execution_count": 62,
   "metadata": {},
   "outputs": [
    {
     "data": {
      "text/html": [
       "<div>\n",
       "<style scoped>\n",
       "    .dataframe tbody tr th:only-of-type {\n",
       "        vertical-align: middle;\n",
       "    }\n",
       "\n",
       "    .dataframe tbody tr th {\n",
       "        vertical-align: top;\n",
       "    }\n",
       "\n",
       "    .dataframe thead th {\n",
       "        text-align: right;\n",
       "    }\n",
       "</style>\n",
       "<table border=\"1\" class=\"dataframe\">\n",
       "  <thead>\n",
       "    <tr style=\"text-align: right;\">\n",
       "      <th></th>\n",
       "      <th>message</th>\n",
       "    </tr>\n",
       "  </thead>\n",
       "  <tbody>\n",
       "    <tr>\n",
       "      <th>0</th>\n",
       "      <td></td>\n",
       "    </tr>\n",
       "    <tr>\n",
       "      <th>1</th>\n",
       "      <td>[2024-02-27 10:54:46.145] MQ2 =39.33 PPM\\tMQ2....</td>\n",
       "    </tr>\n",
       "    <tr>\n",
       "      <th>2</th>\n",
       "      <td>[2024-02-27 10:54:46.162] MQ2 =39.33 PPM\\tMQ2....</td>\n",
       "    </tr>\n",
       "    <tr>\n",
       "      <th>3</th>\n",
       "      <td>[2024-02-27 10:54:46.162] MQ2 =42.06 PPM\\tMQ2....</td>\n",
       "    </tr>\n",
       "    <tr>\n",
       "      <th>4</th>\n",
       "      <td>[2024-02-27 10:54:46.162] MQ2 =40.69 PPM\\tMQ2....</td>\n",
       "    </tr>\n",
       "    <tr>\n",
       "      <th>...</th>\n",
       "      <td>...</td>\n",
       "    </tr>\n",
       "    <tr>\n",
       "      <th>115</th>\n",
       "      <td>[2024-02-27 11:01:18.572] MQ2 =42.06 PPM\\tMQ2....</td>\n",
       "    </tr>\n",
       "    <tr>\n",
       "      <th>116</th>\n",
       "      <td>[2024-02-27 11:01:22.221] MQ2 =40.69 PPM\\tMQ2....</td>\n",
       "    </tr>\n",
       "    <tr>\n",
       "      <th>117</th>\n",
       "      <td>[2024-02-27 11:01:25.877] MQ2 =40.69 PPM\\tMQ2....</td>\n",
       "    </tr>\n",
       "    <tr>\n",
       "      <th>118</th>\n",
       "      <td>[2024-02-27 11:01:33.156] MQ2 =40.69 PPM\\tMQ2....</td>\n",
       "    </tr>\n",
       "    <tr>\n",
       "      <th>119</th>\n",
       "      <td>[2024-02-27 11:01:33.181] MQ2 =42.06 PPM\\tMQ2....</td>\n",
       "    </tr>\n",
       "  </tbody>\n",
       "</table>\n",
       "<p>120 rows × 1 columns</p>\n",
       "</div>"
      ],
      "text/plain": [
       "                                               message\n",
       "0                                                     \n",
       "1    [2024-02-27 10:54:46.145] MQ2 =39.33 PPM\\tMQ2....\n",
       "2    [2024-02-27 10:54:46.162] MQ2 =39.33 PPM\\tMQ2....\n",
       "3    [2024-02-27 10:54:46.162] MQ2 =42.06 PPM\\tMQ2....\n",
       "4    [2024-02-27 10:54:46.162] MQ2 =40.69 PPM\\tMQ2....\n",
       "..                                                 ...\n",
       "115  [2024-02-27 11:01:18.572] MQ2 =42.06 PPM\\tMQ2....\n",
       "116  [2024-02-27 11:01:22.221] MQ2 =40.69 PPM\\tMQ2....\n",
       "117  [2024-02-27 11:01:25.877] MQ2 =40.69 PPM\\tMQ2....\n",
       "118  [2024-02-27 11:01:33.156] MQ2 =40.69 PPM\\tMQ2....\n",
       "119  [2024-02-27 11:01:33.181] MQ2 =42.06 PPM\\tMQ2....\n",
       "\n",
       "[120 rows x 1 columns]"
      ]
     },
     "execution_count": 62,
     "metadata": {},
     "output_type": "execute_result"
    }
   ],
   "source": [
    "list"
   ]
  }
 ],
 "metadata": {
  "kernelspec": {
   "display_name": ".venv",
   "language": "python",
   "name": "python3"
  },
  "language_info": {
   "codemirror_mode": {
    "name": "ipython",
    "version": 3
   },
   "file_extension": ".py",
   "mimetype": "text/x-python",
   "name": "python",
   "nbconvert_exporter": "python",
   "pygments_lexer": "ipython3",
   "version": "3.11.8"
  }
 },
 "nbformat": 4,
 "nbformat_minor": 2
}
