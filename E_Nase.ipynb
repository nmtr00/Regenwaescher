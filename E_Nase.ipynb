{
 "cells": [
  {
   "cell_type": "code",
   "execution_count": 13,
   "metadata": {},
   "outputs": [],
   "source": [
    "import pandas as pd\n",
    "import re\n",
    "import os\n",
    "\n",
    "data = '.\\Vorne.txt'\n",
    "file_name = os.path.splitext(os.path.basename(data))[0]\n",
    "list = []\n",
    "read_file = open(data)\n",
    "line = read_file.readline()\n",
    "while line:\n",
    "    try:\n",
    "        list.append(line)\n",
    "    except ValueError:\n",
    "        print('Error in line :' + line )\n",
    "    line = read_file.readline()\n",
    "# Regular expression pattern for extracting values\n",
    "pattern = r'\\[(.*?)\\s(.*?)\\] MQ2 =([\\d.]+) PPM.*?MQ2.SV =([\\d.]+).*?MQ3 =([\\d.]+) mg/L.*?MQ3.SV =([\\d.]+).*?MQ9B =([\\d.]+) PPM.*?MQ9B.SV =([\\d.]+).*?MQ135 =([\\d.]+) PPM.*?MQ135.SV =([\\d.]+).*?MP503.SV =([\\d.]+).*?HCOH =([\\d.]+) PPM.*?HCOH.SV =([\\d.]+)' #.*?Temp =([\\d.]+) *C\n",
    "\n",
    "# Extracting data into a list of dictionaries\n",
    "data_dict = []\n",
    "for item in list:\n",
    "    entries = re.findall(pattern, item)\n",
    "    for entry in entries:\n",
    "        date = entry[0]\n",
    "        time = entry[1]\n",
    "        mq2_ppm = float(entry[2])\n",
    "        mq2_sv = float(entry[3])\n",
    "        mq3_mg_l = float(entry[4])\n",
    "        mq3_sv = float(entry[5])\n",
    "        mq9b_ppm = float(entry[6])\n",
    "        mq9b_sv = float(entry[7])\n",
    "        mq135_ppm = float(entry[8])\n",
    "        mq135_sv = float(entry[9])\n",
    "        mp503_sv = float(entry[10])\n",
    "        hcoh_ppm = float(entry[11])\n",
    "        hcoh_sv = float(entry[12])\n",
    "        #temp = float(entry[13])\n",
    "        data_dict.append({\n",
    "            'Date': date.replace('-',''),\n",
    "            'Time': time,\n",
    "            f'MQ2.SV {file_name}': mq2_sv,\n",
    "            f'MQ3.SV {file_name}': mq3_sv,\n",
    "            f'MQ9B.SV {file_name}': mq9b_sv,\n",
    "            f'MQ135.SV {file_name}': mq135_sv,\n",
    "            f'MP503.SV {file_name}': mp503_sv,\n",
    "            f'HCOH.SV {file_name}': hcoh_sv,\n",
    "            #'Temp': temp,\n",
    "        })\n",
    "\n",
    "# Converting list of dictionaries to DataFrame\n",
    "df = pd.DataFrame(data_dict)"
   ]
  },
  {
   "cell_type": "code",
   "execution_count": 14,
   "metadata": {},
   "outputs": [
    {
     "data": {
      "text/html": [
       "<div>\n",
       "<style scoped>\n",
       "    .dataframe tbody tr th:only-of-type {\n",
       "        vertical-align: middle;\n",
       "    }\n",
       "\n",
       "    .dataframe tbody tr th {\n",
       "        vertical-align: top;\n",
       "    }\n",
       "\n",
       "    .dataframe thead th {\n",
       "        text-align: right;\n",
       "    }\n",
       "</style>\n",
       "<table border=\"1\" class=\"dataframe\">\n",
       "  <thead>\n",
       "    <tr style=\"text-align: right;\">\n",
       "      <th></th>\n",
       "    </tr>\n",
       "  </thead>\n",
       "  <tbody>\n",
       "  </tbody>\n",
       "</table>\n",
       "</div>"
      ],
      "text/plain": [
       "Empty DataFrame\n",
       "Columns: []\n",
       "Index: []"
      ]
     },
     "execution_count": 14,
     "metadata": {},
     "output_type": "execute_result"
    }
   ],
   "source": [
    "df"
   ]
  }
 ],
 "metadata": {
  "kernelspec": {
   "display_name": ".venv",
   "language": "python",
   "name": "python3"
  },
  "language_info": {
   "codemirror_mode": {
    "name": "ipython",
    "version": 3
   },
   "file_extension": ".py",
   "mimetype": "text/x-python",
   "name": "python",
   "nbconvert_exporter": "python",
   "pygments_lexer": "ipython3",
   "version": "3.11.8"
  }
 },
 "nbformat": 4,
 "nbformat_minor": 2
}
