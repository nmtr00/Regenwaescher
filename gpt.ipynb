{
 "cells": [
  {
   "cell_type": "code",
   "execution_count": 6,
   "metadata": {},
   "outputs": [],
   "source": [
    "import pandas as pd\n",
    "import re\n",
    "\n",
    "# Your data\n",
    "list = [\n",
    "    '[2024-02-27 10:54:46.145] MQ2 =39.33 PPM\\tMQ2.SV =52\\tMQ3 =0.16 mg/L\\tMQ3.SV =22\\tMQ9B =0.00 PPM\\tMQ9B.SV =111\\tMQ135 =3689.10 PPM\\tMQ135.SV =49\\tMP503.SV =6\\tHCOH =1.15 PPM\\tHCOH.SV =14\\tTemp: 24.94 *C\\tRH: 29.11 %\\tTVOC_ohm: 368.87 KOhms\\t\\tAltit.: 160.33 m\\t\\n',\n",
    "    '[2024-02-27 10:54:46.162] MQ2 =39.33 PPM\\tMQ2.SV =52\\tMQ3 =0.16 mg/L\\tMQ3.SV =22\\tMQ9B =0.00 PPM\\tMQ9B.SV =111\\tMQ135 =3689.10 PPM\\tMQ135.SV =49\\tMP503.SV =6\\tHCOH =1.11 PPM\\tHCOH.SV =13\\tTemp: 24.95 *C\\tRH: 29.07 %\\tTVOC_ohm: 368.47 KOhms\\t\\tAltit.: 160.33 m\\t\\n',\n",
    "    '[2024-02-27 10:54:46.162] MQ2 =42.06 PPM\\tMQ2.SV =54\\tMQ3 =0.17 mg/L\\tMQ3.SV =23\\tMQ9B =0.00 PPM\\tMQ9B.SV =112\\tMQ135 =3689.10 PPM\\tMQ135.SV =49\\tMP503.SV =6\\tHCOH =1.11 PPM\\tHCOH.SV =13\\tTemp: 24.92 *C\\tRH: 29.03 %\\tTVOC_ohm: 366.43 KOhms\\t\\tAltit.: 160.33 m\\t\\n',\n",
    "    '[2024-02-27 10:54:46.162] MQ2 =40.69 PPM\\tMQ2.SV =53\\tMQ3 =0.16 mg/L\\tMQ3.SV =22\\tMQ9B =0.00 PPM\\tMQ9B.SV =111\\tMQ135 =3689.10 PPM\\tMQ135.SV =49\\tMP503.SV =6\\tHCOH =1.15 PPM\\tHCOH.SV =14\\tTemp: 24.92 *C\\tRH: 29.04 %\\tTVOC_ohm: 364.42 KOhms\\t\\tAltit.: 160.33 m\\t\\n',\n",
    "    '[2024-02-27 10:54:46.162] MQ2 =40.69 PPM\\tMQ2.SV =53\\tMQ3 =0.16 mg/L\\tMQ3.SV =22\\tMQ9B =0.00 PPM\\tMQ9B.SV =112\\tMQ135 =3689.10 PPM\\tMQ135.SV =49\\tMP503.SV =6\\tHCOH =1.15 PPM\\tHCOH.SV =14\\tTemp: 24.94 *C\\tRH: 29.04 %\\tTVOC_ohm: 366.03 KOhms\\t\\tAltit.: 160.33 m\\t\\n',\n",
    "    '[2024-02-27 10:54:46.174] MQ2 =40.69 PPM\\tMQ2.SV =53\\tMQ3 =0.16 mg/L\\tMQ3.SV =22\\tMQ9B =0.00 PPM\\tMQ9B.SV =111\\tMQ135 =3689.10 PPM\\tMQ135.SV =49\\tMP503.SV =6\\tHCOH =1.15 PPM\\tHCOH.SV =14\\tTemp: 24.97 *C\\tRH: 29.04 %\\tTVOC_ohm: 365.22 KOhms\\t\\tAltit.: 160.50 m\\t\\n',\n",
    "    '[2024-02-27 10:54:46.174] MQ2 =42.06 PPM\\tMQ2.SV =54\\tMQ3 =0.16 mg/L\\tMQ3.SV =22\\tMQ9B =0.00 PPM\\tMQ9B.SV =111\\tMQ135 =3689.10 PPM\\tMQ135.SV =49\\tMP503.SV =6\\tHCOH =1.15 PPM\\tHCOH.SV =14\\tTemp: 24.98 *C\\tRH: 29.01 %\\tTVOC_ohm: 366.43 KOhms\\t\\tAltit.: 160.50 m\\t\\n',\n",
    "    '[2024-02-27 10:54:47.684] MQ2 =40.69 PPM\\tMQ2.SV =53\\tMQ3 =0.16 mg/L\\tMQ3.SV =22\\tMQ9B =0.00 PPM\\tMQ9B.SV =111\\tMQ135 =3689.10 PPM\\tMQ135.SV =49\\tMP503.SV =6\\tHCOH =1.15 PPM\\tHCOH.SV =14\\tTemp: 24.98 *C\\tRH: 29.00 %\\tTVOC_ohm: 365.62 KOhms\\t\\tAltit.: 160.33 m\\t\\n',\n",
    "    '[2024-02-27 10:54:51.337] MQ2 =40.69 PPM\\tMQ2.SV =53\\tMQ3 =0.16 mg/L\\tMQ3.SV =22\\tMQ9B =0.00 PPM\\tMQ9B.SV =111\\tMQ135 =3689.10 PPM\\tMQ135.SV =49\\tMP503.SV =7\\tHCOH =1.15 PPM\\tHCOH.SV =14\\tTemp: 25.01 *C\\tRH: 28.98 %\\tTVOC_ohm: 364.42 KOhms\\t\\tAltit.: 160.16 m\\t'\n",
    "]\n",
    "\n"
   ]
  },
  {
   "cell_type": "code",
   "execution_count": 7,
   "metadata": {},
   "outputs": [],
   "source": [
    "# Regular expression pattern for extracting values\n",
    "pattern = r'\\[(.*?)\\] MQ2 =([\\d.]+) PPM.*?MQ2.SV =([\\d.]+).*?MQ3 =([\\d.]+) mg/L.*?MQ3.SV =([\\d.]+).*?MQ9B =([\\d.]+) PPM.*?MQ9B.SV =([\\d.]+).*?MQ135 =([\\d.]+) PPM.*?MQ135.SV =([\\d.]+).*?MP503.SV =([\\d.]+).*?HCOH =([\\d.]+) PPM.*?HCOH.SV =([\\d.]+)'\n"
   ]
  },
  {
   "cell_type": "code",
   "execution_count": 8,
   "metadata": {},
   "outputs": [
    {
     "name": "stdout",
     "output_type": "stream",
     "text": [
      "                 Timestamp  MQ2_PPM  MQ2_SV  MQ3_mg_L  MQ3_SV  MQ9B_PPM  \\\n",
      "0  2024-02-27 10:54:46.145    39.33    52.0      0.16    22.0       0.0   \n",
      "1  2024-02-27 10:54:46.162    39.33    52.0      0.16    22.0       0.0   \n",
      "2  2024-02-27 10:54:46.162    42.06    54.0      0.17    23.0       0.0   \n",
      "3  2024-02-27 10:54:46.162    40.69    53.0      0.16    22.0       0.0   \n",
      "4  2024-02-27 10:54:46.162    40.69    53.0      0.16    22.0       0.0   \n",
      "5  2024-02-27 10:54:46.174    40.69    53.0      0.16    22.0       0.0   \n",
      "6  2024-02-27 10:54:46.174    42.06    54.0      0.16    22.0       0.0   \n",
      "7  2024-02-27 10:54:47.684    40.69    53.0      0.16    22.0       0.0   \n",
      "8  2024-02-27 10:54:51.337    40.69    53.0      0.16    22.0       0.0   \n",
      "\n",
      "   MQ9B_SV  MQ135_PPM  MQ135_SV  MP503_SV  HCOH_PPM  HCOH_SV  \n",
      "0    111.0     3689.1      49.0       6.0      1.15     14.0  \n",
      "1    111.0     3689.1      49.0       6.0      1.11     13.0  \n",
      "2    112.0     3689.1      49.0       6.0      1.11     13.0  \n",
      "3    111.0     3689.1      49.0       6.0      1.15     14.0  \n",
      "4    112.0     3689.1      49.0       6.0      1.15     14.0  \n",
      "5    111.0     3689.1      49.0       6.0      1.15     14.0  \n",
      "6    111.0     3689.1      49.0       6.0      1.15     14.0  \n",
      "7    111.0     3689.1      49.0       6.0      1.15     14.0  \n",
      "8    111.0     3689.1      49.0       7.0      1.15     14.0  \n"
     ]
    }
   ],
   "source": [
    "# Extracting data into a list of dictionaries\n",
    "data_dict = []\n",
    "for item in list:\n",
    "    entries = re.findall(pattern, item)\n",
    "    for entry in entries:\n",
    "        timestamp = entry[0]\n",
    "        mq2_ppm = float(entry[1])\n",
    "        mq2_sv = float(entry[2])\n",
    "        mq3_mg_l = float(entry[3])\n",
    "        mq3_sv = float(entry[4])\n",
    "        mq9b_ppm = float(entry[5])\n",
    "        mq9b_sv = float(entry[6])\n",
    "        mq135_ppm = float(entry[7])\n",
    "        mq135_sv = float(entry[8])\n",
    "        mp503_sv = float(entry[9])\n",
    "        hcoh_ppm = float(entry[10])\n",
    "        hcoh_sv = float(entry[11])\n",
    "        data_dict.append({\n",
    "            'Timestamp': timestamp,\n",
    "            'MQ2_PPM': mq2_ppm,\n",
    "            'MQ2_SV': mq2_sv,\n",
    "            'MQ3_mg_L': mq3_mg_l,\n",
    "            'MQ3_SV': mq3_sv,\n",
    "            'MQ9B_PPM': mq9b_ppm,\n",
    "            'MQ9B_SV': mq9b_sv,\n",
    "            'MQ135_PPM': mq135_ppm,\n",
    "            'MQ135_SV': mq135_sv,\n",
    "            'MP503_SV': mp503_sv,\n",
    "            'HCOH_PPM': hcoh_ppm,\n",
    "            'HCOH_SV': hcoh_sv\n",
    "        })\n",
    "\n",
    "# Converting list of dictionaries to DataFrame\n",
    "df = pd.DataFrame(data_dict)\n",
    "\n",
    "print(df)"
   ]
  }
 ],
 "metadata": {
  "kernelspec": {
   "display_name": ".venv",
   "language": "python",
   "name": "python3"
  },
  "language_info": {
   "codemirror_mode": {
    "name": "ipython",
    "version": 3
   },
   "file_extension": ".py",
   "mimetype": "text/x-python",
   "name": "python",
   "nbconvert_exporter": "python",
   "pygments_lexer": "ipython3",
   "version": "3.11.8"
  }
 },
 "nbformat": 4,
 "nbformat_minor": 2
}
